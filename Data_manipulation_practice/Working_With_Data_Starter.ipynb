{
 "cells": [
  {
   "cell_type": "markdown",
   "metadata": {},
   "source": [
    "# Data Manipulation and Visualization Practice"
   ]
  },
  {
   "cell_type": "code",
   "execution_count": null,
   "metadata": {},
   "outputs": [],
   "source": [
    "import pandas as pd\n",
    "import numpy as np\n",
    "import seaborn as sns\n",
    "import matplotlib.pyplot as plt\n",
    "%matplotlib inline"
   ]
  },
  {
   "cell_type": "markdown",
   "metadata": {},
   "source": [
    "# Read In Data"
   ]
  },
  {
   "cell_type": "code",
   "execution_count": null,
   "metadata": {},
   "outputs": [],
   "source": [
    "#read in the world_bank_misc.csv file using 0 as its index column and view its contents\n",
    "raw = ...\n",
    "raw"
   ]
  },
  {
   "cell_type": "markdown",
   "metadata": {},
   "source": [
    "# Useful Operations"
   ]
  },
  {
   "cell_type": "code",
   "execution_count": null,
   "metadata": {},
   "outputs": [],
   "source": [
    "# check our our column names aka the features we have some of them are quite interesting\n",
    "..."
   ]
  },
  {
   "cell_type": "code",
   "execution_count": null,
   "metadata": {},
   "outputs": [],
   "source": [
    "# check out the first couple of rows of the table\n",
    "..."
   ]
  },
  {
   "cell_type": "code",
   "execution_count": null,
   "metadata": {},
   "outputs": [],
   "source": [
    "# how many rows x how many columns of the dataframe\n",
    "..."
   ]
  },
  {
   "cell_type": "markdown",
   "metadata": {},
   "source": [
    "Lets create a dataframe that has only the columns of the raw data that we care about. Create a datafram with columns litm, litf, and inc that represent the Adult literacy rate: Male: % ages 15 and older: 2005-14, Adult literacy rate: Female: % ages 15 and older: 2005-14, and Gross national income per capita, Atlas method: $: 2016"
   ]
  },
  {
   "cell_type": "code",
   "execution_count": null,
   "metadata": {},
   "outputs": [],
   "source": [
    "#creates a dataframe with the appropriate index\n",
    "df = pd.DataFrame(index=raw.index)\n",
    "\n",
    "#copies the Series we want\n",
    "df[...] = raw[...]\n",
    "...\n",
    "...\n"
   ]
  },
  {
   "cell_type": "markdown",
   "metadata": {},
   "source": [
    "Lets drops all records (inplace) that have a NaN value in either column"
   ]
  },
  {
   "cell_type": "code",
   "execution_count": null,
   "metadata": {},
   "outputs": [],
   "source": [
    "..."
   ]
  },
  {
   "cell_type": "code",
   "execution_count": null,
   "metadata": {},
   "outputs": [],
   "source": [
    "df.head()"
   ]
  },
  {
   "cell_type": "markdown",
   "metadata": {},
   "source": [
    "Now that we have only the data we want to look at, lets visualize the literacy rates and income using a distribution plot from seaborn. It has some extra paramaters such as kde and rug, try setting these to True or False and see what happens"
   ]
  },
  {
   "cell_type": "code",
   "execution_count": null,
   "metadata": {},
   "outputs": [],
   "source": [
    "plt.figure(figsize=(15,5))\n",
    "\n",
    "plt.subplot(1,2,1)\n",
    "...\n",
    "plt.xlabel(\"Adult literacy rate: Female: % ages 15 and older: 2005-14\")\n",
    "plt.title('World Bank Female Adult Literacy Rate')\n",
    "\n",
    "plt.subplot(1,2,2)\n",
    "...\n",
    "plt.xlabel(\"Adult literacy rate: Male: % ages 15 and older: 2005-14\")\n",
    "plt.title('World Bank Gross National Income Per Capita')\n",
    "plt.show()"
   ]
  },
  {
   "cell_type": "code",
   "execution_count": null,
   "metadata": {},
   "outputs": [],
   "source": [
    "...\n",
    "plt.xlabel('Gross national income per capita, Atlas method: $: 2016')\n",
    "plt.title('World Bank Gross National Income Per Capita')\n",
    "plt.show()"
   ]
  },
  {
   "cell_type": "markdown",
   "metadata": {},
   "source": [
    "Find the countries that have the max male literacty rate. Hint: max function might be usefull here"
   ]
  },
  {
   "cell_type": "code",
   "execution_count": null,
   "metadata": {},
   "outputs": [],
   "source": [
    "..."
   ]
  },
  {
   "cell_type": "markdown",
   "metadata": {},
   "source": [
    "Find the countries that has the lowest male literacy rate."
   ]
  },
  {
   "cell_type": "code",
   "execution_count": null,
   "metadata": {},
   "outputs": [],
   "source": [
    "..."
   ]
  },
  {
   "cell_type": "markdown",
   "metadata": {},
   "source": [
    "# Loss Function Practice"
   ]
  },
  {
   "cell_type": "code",
   "execution_count": null,
   "metadata": {
    "scrolled": true
   },
   "outputs": [],
   "source": [
    "data = sns.load_dataset(\"tips\")\n",
    "\n",
    "print(\"Number of Records:\", len(data))\n",
    "data.head()"
   ]
  },
  {
   "cell_type": "markdown",
   "metadata": {},
   "source": [
    "# Defining our Model"
   ]
  },
  {
   "cell_type": "markdown",
   "metadata": {},
   "source": [
    "Typicall when people tip in the US, the give a 15% tip. We can generally assume then that our data will be somehwat linear because with traditional tipping standards, as the bill increases so will the tip. We can visualize this relationship using a scatter plot below on the total_bill and tip columns of data"
   ]
  },
  {
   "cell_type": "code",
   "execution_count": null,
   "metadata": {},
   "outputs": [],
   "source": [
    "..."
   ]
  },
  {
   "cell_type": "markdown",
   "metadata": {},
   "source": [
    "If we wanted to estimate a tip for a certain bill then we can define our model as\n",
    "<b>estimated_tip= w*total_bill</b> where w is some optimal weight that models our data. In a perfect world where everyone always tipped 15%, w would be .15"
   ]
  },
  {
   "cell_type": "code",
   "execution_count": null,
   "metadata": {},
   "outputs": [],
   "source": [
    "def model(weight, total_bill):\n",
    "    \"\"\"\n",
    "    Takes the parameter theta and the total bill, and returns the computed tip.\n",
    "    \n",
    "    Parameters\n",
    "    ----------\n",
    "    theta: tip percentage \n",
    "    total_bill: total bill value in dollars\n",
    "    \"\"\"\n",
    "    return ..."
   ]
  },
  {
   "cell_type": "markdown",
   "metadata": {},
   "source": [
    "Now that we have a model, we should describe our loss from our predicted value and the actual value. We should try the squared loss function. L(actual_tip,estimated_tip)=(actual_tip - estimated_tip)^2"
   ]
  },
  {
   "cell_type": "code",
   "execution_count": null,
   "metadata": {},
   "outputs": [],
   "source": [
    "def squared_loss(actual_tip, estimated_tip):\n",
    "    \"\"\"\n",
    "    Calculate the squared loss of the observed data and predicted data.\n",
    "    \n",
    "    Parameters\n",
    "    ------------\n",
    "    y_obs: an array of observed values\n",
    "    y_hat: an array of predicted values\n",
    "    \n",
    "    Returns\n",
    "    ------------\n",
    "    An array of loss values corresponding to the squared loss for each prediction\n",
    "    \"\"\"\n",
    "    return ..."
   ]
  },
  {
   "cell_type": "code",
   "execution_count": null,
   "metadata": {},
   "outputs": [],
   "source": [
    "actual_tip = 3.00\n",
    "total_bill = 28.00\n",
    "weights = np.linspace(0, 0.3, 200) # A array of weight values"
   ]
  },
  {
   "cell_type": "code",
   "execution_count": null,
   "metadata": {},
   "outputs": [],
   "source": [
    "#calculate the loss for each weight in weights using the two functions above\n",
    "loss = np.array([... for weight in weights])"
   ]
  },
  {
   "cell_type": "code",
   "execution_count": null,
   "metadata": {},
   "outputs": [],
   "source": [
    "#plot the weights values compared to the loss in our range\n",
    "...\n",
    "plt.title(\"Squared Loss of Observed and Predicted Tip (in dollars)\")\n",
    "plt.xlabel(r\"Choice for $\\theta$ (tip percent)\")\n",
    "plt.ylabel(r\"Loss\")\n",
    "plt.legend(loc=4)\n",
    "plt.savefig(\"squared_loss_my_plot.png\",  bbox_inches = 'tight')"
   ]
  },
  {
   "cell_type": "markdown",
   "metadata": {},
   "source": [
    "Hopefully you got a graph that looks parabolic. What weight seems to minimize our loss function?"
   ]
  }
 ],
 "metadata": {
  "kernelspec": {
   "display_name": "Python 3",
   "language": "python",
   "name": "python3"
  },
  "language_info": {
   "codemirror_mode": {
    "name": "ipython",
    "version": 3
   },
   "file_extension": ".py",
   "mimetype": "text/x-python",
   "name": "python",
   "nbconvert_exporter": "python",
   "pygments_lexer": "ipython3",
   "version": "3.6.4"
  }
 },
 "nbformat": 4,
 "nbformat_minor": 2
}
